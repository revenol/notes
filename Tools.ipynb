{
 "cells": [
  {
   "cell_type": "markdown",
   "metadata": {},
   "source": [
    "# Tools used \n",
    "\n",
    "## Markdown\n",
    "Markdown语言可以快速的整理记录，然后被转化成相应的HTML语言显示。相较于HTML，Markdown语言的写法方便很多，用了一些列的符号，快速生成标题、列表、引用等一些正常文档记录必备的格式。另外，还可以在Markdown里面支持HTML，（废话：Markdown本身就是转化成HTML显示的），实现一些更复杂的显示功能。Markdown的语法说明可以看这里：[简体中文](http://wowubuntu.com/markdown/)、[English](https://daringfireball.net/projects/markdown/syntax)。"
   ]
  },
  {
   "cell_type": "code",
   "execution_count": null,
   "metadata": {
    "collapsed": true
   },
   "outputs": [],
   "source": []
  }
 ],
 "metadata": {
  "kernelspec": {
   "display_name": "Python 3",
   "language": "python",
   "name": "python3"
  },
  "language_info": {
   "codemirror_mode": {
    "name": "ipython",
    "version": 3
   },
   "file_extension": ".py",
   "mimetype": "text/x-python",
   "name": "python",
   "nbconvert_exporter": "python",
   "pygments_lexer": "ipython3",
   "version": "3.6.0"
  }
 },
 "nbformat": 4,
 "nbformat_minor": 2
}
