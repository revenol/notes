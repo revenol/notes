{
 "cells": [
  {
   "cell_type": "markdown",
   "metadata": {},
   "source": [
    "# Random Forest\n",
    "\n",
    "Chapter 15. Random Forests\n",
    "\n",
    "*本章节介绍随机森林算法。上网搜了下，发现这是一个烂大街的算法，试用场景广泛、正确率还普遍高于一般的算法。随机算法应该是和梯度算法并列，一个问题的两种思路。*\n",
    "\n",
    "本章节充分感受到作者对自己的[梯度算法](./BoostingTree.ipynb)的偏爱，以及对随机森林的不屑。当然，作者数学功底深厚，从 variance 角度，对随机森林讲解非常深入。可惜深入并没有浅出，内容可阅读性非常差，我看好几遍还是没彻底弄清楚那几个 conditional co-variance 的差别。但初略领悟到了随机森林的原理，以后有需求再看吧。"
   ]
  },
  {
   "cell_type": "markdown",
   "metadata": {},
   "source": [
    "## Outline\n",
    "\n",
    "1. *Random forest for regression or classification* 算法, Bootstrap + \"random split\" + bagging: \n",
    "  - 随机一：Bootstrap 随机生产 N 个训练样本数据 $\\mathbf{Z}^*$\n",
    "  - 随机二：基于  $\\mathbf{Z}^*$， 随机生成树 $T_b$。随机性体现在：每次树节点分支，都从 p 维空间中随机抽取 m 维进行分支。（这个很重要）\n",
    "  - 重复上述两个随机 B 次，得到森林 $\\{T_b\\}_1^B$.\n",
    "  \n",
    "  具体使用时，如果是 regression，就对 B 个树求平均；如果是 classification，就进行 B 次投票。\n",
    "  \n",
    "1. *variance of the random forest*, 随机森林工作原理：降低 variance。关于 variance 的数学知识：\n",
    "  - 如果是 B 个 i.i.d 独立同分布变量, 每个变量的 variance 都是 $\\delta^2$, 那么 B 个平均的 variance 是 $\\delta^2/B$\n",
    "  - 如果是 B 个 i.d 同分布变量(identically distributed, but not necessarily independent)，变量之间有正相关，系数为 $\\rho$，那么 B 个变量平均的 variance 是\n",
    "  \\begin{align}\n",
    "  \\rho \\delta^2 + \\frac{1-\\rho}{B} \\delta^2\n",
    "  \\end{align}\n",
    "  \n",
    "  随机森林算法的奥秘就藏在上述公式中。\n",
    "  - “随机一”的 Bootstrap 保证了 $T_b$ 的同分布。当 $B \\rightarrow \\infty$ 时，上式第二项趋于0.\n",
    "  - “随机二” 从 p 维随机抽取 m 维，降低了 $T_b$ 之间的相关性。 当 $\\rho \\rightarrow 0$ 时，上式第一项趋于0.\n",
    "  \n",
    "1. *out of bag*. 总共 N 个样本数据，Bootstrap 重复随机抽取 N 个数据，一次都没有被抽中的概率为\n",
    "  \\begin{align}\n",
    "  \\left(1 - \\frac{1}{N}\\right)^N \\xrightarrow[]{N \\to \\infty} e^{-1} \\approx 0.33\n",
    "  \\end{align}"
   ]
  },
  {
   "cell_type": "markdown",
   "metadata": {},
   "source": [
    "## 具体内容\n",
    "\n",
    "*就这么简单、实用。没有更多了。。。以后有心得再追加*"
   ]
  }
 ],
 "metadata": {
  "kernelspec": {
   "display_name": "Python 3",
   "language": "python",
   "name": "python3"
  },
  "language_info": {
   "codemirror_mode": {
    "name": "ipython",
    "version": 3
   },
   "file_extension": ".py",
   "mimetype": "text/x-python",
   "name": "python",
   "nbconvert_exporter": "python",
   "pygments_lexer": "ipython3",
   "version": "3.6.0"
  }
 },
 "nbformat": 4,
 "nbformat_minor": 2
}
